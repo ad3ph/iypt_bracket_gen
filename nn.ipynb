{
 "cells": [
  {
   "cell_type": "code",
   "execution_count": 1,
   "metadata": {},
   "outputs": [],
   "source": [
    "import pickle\n",
    "import numpy as np\n",
    "import pandas as pd\n",
    "import glob\n",
    "\n",
    "import torch\n",
    "import torch.nn as nn\n",
    "from torch.utils.data import DataLoader\n",
    "device = torch.device('cpu')\n",
    "\n",
    "from sklearn.model_selection import train_test_split\n",
    "from sklearn.metrics import r2_score, mean_squared_error"
   ]
  },
  {
   "cell_type": "code",
   "execution_count": 2,
   "metadata": {},
   "outputs": [],
   "source": [
    "from torchsummary import summary\n",
    "from torch.nn import functional as F"
   ]
  },
  {
   "cell_type": "code",
   "execution_count": 3,
   "metadata": {},
   "outputs": [],
   "source": [
    "from src.genetic_generator import decode_bracket"
   ]
  },
  {
   "attachments": {},
   "cell_type": "markdown",
   "metadata": {},
   "source": [
    "# Подготовка данных\n",
    "\n",
    "TODO: добавить glob, переместить все дампы в папку"
   ]
  },
  {
   "cell_type": "code",
   "execution_count": 4,
   "metadata": {},
   "outputs": [
    {
     "name": "stdout",
     "output_type": "stream",
     "text": [
      "810 files\n"
     ]
    }
   ],
   "source": [
    "files_x = sorted(glob.glob('dumps/dump_x*.pkl'))\n",
    "files_y = sorted(glob.glob('dumps/dump_y*.pkl'))\n",
    "print(f'{len(files_x)} files')"
   ]
  },
  {
   "cell_type": "code",
   "execution_count": 5,
   "metadata": {},
   "outputs": [],
   "source": [
    "with open(files_x[0], 'rb') as fx, open(files_y[0], 'rb') as fy:\n",
    "    data_x = np.array([decode_bracket(i)[0] for i in pickle.load(fx)])\n",
    "    data_y = np.array([decode_bracket(i)[0] for i in pickle.load(fy)])\n",
    "    assert data_x.shape == data_y.shape\n",
    "    assert len(data_x.shape) == 3\n",
    "\n",
    "files_x.pop(0)\n",
    "files_y.pop(0)\n",
    "\n",
    "for filename_x, filename_y in zip(files_x, files_y):\n",
    "    with open(filename_x, 'rb') as fx, open(filename_y, 'rb') as fy:\n",
    "        ex_data_x = np.array([decode_bracket(i)[0] for i in pickle.load(fx)])\n",
    "        ex_data_y = np.array([decode_bracket(i)[0] for i in pickle.load(fy)])\n",
    "\n",
    "        assert ex_data_x.shape == ex_data_y.shape, f'Broke: {ex_data_x}, {ex_data_y}, ex_data_x.shape == ex_data_y.shape: {ex_data_x.shape == ex_data_y.shape}'\n",
    "        assert len(ex_data_x.shape) == 3\n",
    "\n",
    "        data_x = np.vstack((data_x, ex_data_x))\n",
    "        data_y = np.vstack((data_y, ex_data_y))"
   ]
  },
  {
   "cell_type": "code",
   "execution_count": 6,
   "metadata": {},
   "outputs": [
    {
     "name": "stdout",
     "output_type": "stream",
     "text": [
      "[[ 5  8]\n",
      " [56 69]\n",
      " [59 69]\n",
      " ...\n",
      " [34 38]\n",
      " [44 55]\n",
      " [45 55]]\n"
     ]
    }
   ],
   "source": [
    "data_x_r = data_x.reshape((data_x.shape[0], data_x.shape[1] * data_x.shape[2]))\n",
    "data_y_r = data_y.reshape((data_y.shape[0], data_y.shape[1] * data_y.shape[2]))\n",
    "swaps = []\n",
    "\n",
    "for x, y in zip(data_x_r, data_y_r):\n",
    "    swaps.append(np.where(x != y)[0])\n",
    "swaps = np.array(swaps)\n",
    "print(swaps)\n",
    "assert swaps.shape[0] == data_x.shape[0]\n",
    "assert swaps.shape[1] == 2"
   ]
  },
  {
   "cell_type": "code",
   "execution_count": 7,
   "metadata": {},
   "outputs": [
    {
     "name": "stdout",
     "output_type": "stream",
     "text": [
      "Train: 19510, test: 2168\n"
     ]
    }
   ],
   "source": [
    "X = torch.tensor(data_x_r.astype('float32'))\n",
    "y = torch.tensor(swaps.astype('float32'))\n",
    "\n",
    "X, X_test, y, y_test = train_test_split(X, y, test_size=0.1)\n",
    "print(f'Train: {X.shape[0]}, test: {X_test.shape[0]}')"
   ]
  },
  {
   "attachments": {},
   "cell_type": "markdown",
   "metadata": {},
   "source": [
    "# Полносвязная нейросеть"
   ]
  },
  {
   "cell_type": "code",
   "execution_count": 38,
   "metadata": {},
   "outputs": [],
   "source": [
    "# TODO:\n",
    "# test activation functions\n",
    "# test architectures\n",
    "# different optimizers "
   ]
  },
  {
   "cell_type": "code",
   "execution_count": 39,
   "metadata": {},
   "outputs": [
    {
     "data": {
      "text/plain": [
       "Sequential(\n",
       "  (0): Linear(in_features=70, out_features=70, bias=True)\n",
       "  (1): ReLU()\n",
       "  (2): Linear(in_features=70, out_features=70, bias=True)\n",
       "  (3): ReLU()\n",
       "  (4): Linear(in_features=70, out_features=70, bias=True)\n",
       "  (5): ReLU()\n",
       "  (6): Linear(in_features=70, out_features=17, bias=True)\n",
       "  (7): ReLU()\n",
       "  (8): Linear(in_features=17, out_features=2, bias=True)\n",
       ")"
      ]
     },
     "execution_count": 39,
     "metadata": {},
     "output_type": "execute_result"
    }
   ],
   "source": [
    "model = nn.Sequential(\n",
    "  nn.Linear(X.shape[1], X.shape[1]),\n",
    "  nn.ReLU(),\n",
    "  nn.Linear(X.shape[1], X.shape[1]),\n",
    "  nn.ReLU(),\n",
    "  nn.Linear(X.shape[1], X.shape[1]),\n",
    "  nn.ReLU(),\n",
    "  nn.Linear(X.shape[1], X.shape[1] // 4),  \n",
    "  nn.ReLU(),\n",
    "  nn.Linear(X.shape[1] // 4, 2),\n",
    "  )\n",
    "model.to(device)"
   ]
  },
  {
   "cell_type": "code",
   "execution_count": 40,
   "metadata": {},
   "outputs": [],
   "source": [
    "loss_fn = nn.MSELoss()\n",
    "optimizer = torch.optim.SGD(model.parameters(), lr=1e-3)\n",
    "n_epochs = 100\n",
    "batch_size = 200\n",
    "history = []"
   ]
  },
  {
   "cell_type": "code",
   "execution_count": 41,
   "metadata": {},
   "outputs": [
    {
     "name": "stdout",
     "output_type": "stream",
     "text": [
      "Finished epoch 1/100, latest loss 639.026, R^2 on test -0.787, NMSE on test 7.09e+02\n",
      "Finished epoch 2/100, latest loss 596.880, R^2 on test -0.655, NMSE on test 6.57e+02\n",
      "Finished epoch 3/100, latest loss 562.496, R^2 on test -0.577, NMSE on test 6.26e+02\n",
      "Finished epoch 4/100, latest loss 534.467, R^2 on test -0.466, NMSE on test 5.82e+02\n",
      "Finished epoch 5/100, latest loss 511.640, R^2 on test -0.400, NMSE on test 5.56e+02\n",
      "Finished epoch 6/100, latest loss 493.070, R^2 on test -0.339, NMSE on test 5.32e+02\n",
      "Finished epoch 7/100, latest loss 477.980, R^2 on test -0.283, NMSE on test 5.09e+02\n",
      "Finished epoch 8/100, latest loss 465.734, R^2 on test -0.233, NMSE on test 4.89e+02\n",
      "Finished epoch 9/100, latest loss 455.811, R^2 on test -0.207, NMSE on test 4.79e+02\n",
      "Finished epoch 10/100, latest loss 447.784, R^2 on test -0.164, NMSE on test 4.62e+02\n",
      "Finished epoch 11/100, latest loss 441.304, R^2 on test -0.147, NMSE on test 4.55e+02\n",
      "Finished epoch 12/100, latest loss 436.084, R^2 on test -0.126, NMSE on test 4.47e+02\n",
      "Finished epoch 13/100, latest loss 431.890, R^2 on test -0.111, NMSE on test 4.41e+02\n",
      "Finished epoch 14/100, latest loss 428.530, R^2 on test -0.093, NMSE on test 4.34e+02\n",
      "Finished epoch 15/100, latest loss 425.847, R^2 on test -0.093, NMSE on test 4.34e+02\n",
      "Finished epoch 16/100, latest loss 423.714, R^2 on test -0.065, NMSE on test 4.23e+02\n",
      "Finished epoch 17/100, latest loss 422.026, R^2 on test -0.065, NMSE on test 4.23e+02\n",
      "Finished epoch 18/100, latest loss 420.697, R^2 on test -0.052, NMSE on test 4.18e+02\n",
      "Finished epoch 19/100, latest loss 419.659, R^2 on test -0.052, NMSE on test 4.18e+02\n",
      "Finished epoch 20/100, latest loss 418.854, R^2 on test -0.042, NMSE on test 4.14e+02\n",
      "Finished epoch 21/100, latest loss 418.236, R^2 on test -0.042, NMSE on test 4.14e+02\n",
      "Finished epoch 22/100, latest loss 417.768, R^2 on test -0.032, NMSE on test 4.1e+02\n",
      "Finished epoch 23/100, latest loss 417.420, R^2 on test -0.032, NMSE on test 4.1e+02\n",
      "Finished epoch 24/100, latest loss 417.166, R^2 on test -0.032, NMSE on test 4.1e+02\n",
      "Finished epoch 25/100, latest loss 416.987, R^2 on test -0.024, NMSE on test 4.07e+02\n",
      "Finished epoch 26/100, latest loss 416.867, R^2 on test -0.024, NMSE on test 4.07e+02\n",
      "Finished epoch 27/100, latest loss 416.793, R^2 on test -0.024, NMSE on test 4.07e+02\n",
      "Finished epoch 28/100, latest loss 416.754, R^2 on test -0.016, NMSE on test 4.03e+02\n",
      "Finished epoch 29/100, latest loss 416.742, R^2 on test -0.016, NMSE on test 4.03e+02\n",
      "Finished epoch 30/100, latest loss 416.750, R^2 on test -0.016, NMSE on test 4.03e+02\n",
      "Finished epoch 31/100, latest loss 416.774, R^2 on test -0.016, NMSE on test 4.03e+02\n",
      "Finished epoch 32/100, latest loss 416.808, R^2 on test -0.016, NMSE on test 4.03e+02\n",
      "Finished epoch 33/100, latest loss 416.849, R^2 on test -0.016, NMSE on test 4.03e+02\n",
      "Finished epoch 34/100, latest loss 416.896, R^2 on test -0.016, NMSE on test 4.03e+02\n",
      "Finished epoch 35/100, latest loss 416.945, R^2 on test -0.016, NMSE on test 4.03e+02\n",
      "Finished epoch 36/100, latest loss 416.996, R^2 on test -0.016, NMSE on test 4.03e+02\n",
      "Finished epoch 37/100, latest loss 417.047, R^2 on test -0.016, NMSE on test 4.03e+02\n",
      "Finished epoch 38/100, latest loss 417.097, R^2 on test -0.016, NMSE on test 4.03e+02\n",
      "Finished epoch 39/100, latest loss 417.146, R^2 on test -0.011, NMSE on test 4.01e+02\n",
      "Finished epoch 40/100, latest loss 417.192, R^2 on test -0.011, NMSE on test 4.01e+02\n",
      "Finished epoch 41/100, latest loss 417.237, R^2 on test -0.006, NMSE on test 3.99e+02\n",
      "Finished epoch 42/100, latest loss 417.279, R^2 on test -0.006, NMSE on test 3.99e+02\n",
      "Finished epoch 43/100, latest loss 417.319, R^2 on test -0.006, NMSE on test 3.99e+02\n",
      "Finished epoch 44/100, latest loss 417.357, R^2 on test -0.006, NMSE on test 3.99e+02\n",
      "Finished epoch 45/100, latest loss 417.392, R^2 on test -0.006, NMSE on test 3.99e+02\n",
      "Finished epoch 46/100, latest loss 417.424, R^2 on test -0.006, NMSE on test 3.99e+02\n",
      "Finished epoch 47/100, latest loss 417.454, R^2 on test -0.006, NMSE on test 3.99e+02\n",
      "Finished epoch 48/100, latest loss 417.482, R^2 on test -0.006, NMSE on test 3.99e+02\n",
      "Finished epoch 49/100, latest loss 417.508, R^2 on test -0.006, NMSE on test 3.99e+02\n",
      "Finished epoch 50/100, latest loss 417.531, R^2 on test -0.006, NMSE on test 3.99e+02\n",
      "Finished epoch 51/100, latest loss 417.553, R^2 on test -0.006, NMSE on test 3.99e+02\n",
      "Finished epoch 52/100, latest loss 417.573, R^2 on test -0.006, NMSE on test 3.99e+02\n",
      "Finished epoch 53/100, latest loss 417.592, R^2 on test -0.006, NMSE on test 3.99e+02\n",
      "Finished epoch 54/100, latest loss 417.609, R^2 on test -0.006, NMSE on test 3.99e+02\n",
      "Finished epoch 55/100, latest loss 417.624, R^2 on test -0.006, NMSE on test 3.99e+02\n",
      "Finished epoch 56/100, latest loss 417.638, R^2 on test -0.006, NMSE on test 3.99e+02\n",
      "Finished epoch 57/100, latest loss 417.651, R^2 on test -0.006, NMSE on test 3.99e+02\n",
      "Finished epoch 58/100, latest loss 417.663, R^2 on test -0.006, NMSE on test 3.99e+02\n",
      "Finished epoch 59/100, latest loss 417.673, R^2 on test -0.006, NMSE on test 3.99e+02\n",
      "Finished epoch 60/100, latest loss 417.683, R^2 on test -0.006, NMSE on test 3.99e+02\n",
      "Finished epoch 61/100, latest loss 417.692, R^2 on test -0.006, NMSE on test 3.99e+02\n",
      "Finished epoch 62/100, latest loss 417.700, R^2 on test -0.006, NMSE on test 3.99e+02\n",
      "Finished epoch 63/100, latest loss 417.707, R^2 on test -0.006, NMSE on test 3.99e+02\n",
      "Finished epoch 64/100, latest loss 417.714, R^2 on test -0.006, NMSE on test 3.99e+02\n",
      "Finished epoch 65/100, latest loss 417.720, R^2 on test -0.006, NMSE on test 3.99e+02\n",
      "Finished epoch 66/100, latest loss 417.726, R^2 on test -0.006, NMSE on test 3.99e+02\n",
      "Finished epoch 67/100, latest loss 417.731, R^2 on test -0.006, NMSE on test 3.99e+02\n",
      "Finished epoch 68/100, latest loss 417.735, R^2 on test -0.006, NMSE on test 3.99e+02\n",
      "Finished epoch 69/100, latest loss 417.740, R^2 on test -0.006, NMSE on test 3.99e+02\n",
      "Finished epoch 70/100, latest loss 417.743, R^2 on test -0.006, NMSE on test 3.99e+02\n",
      "Finished epoch 71/100, latest loss 417.747, R^2 on test -0.006, NMSE on test 3.99e+02\n",
      "Finished epoch 72/100, latest loss 417.750, R^2 on test -0.006, NMSE on test 3.99e+02\n",
      "Finished epoch 73/100, latest loss 417.753, R^2 on test -0.006, NMSE on test 3.99e+02\n",
      "Finished epoch 74/100, latest loss 417.755, R^2 on test -0.006, NMSE on test 3.99e+02\n",
      "Finished epoch 75/100, latest loss 417.758, R^2 on test -0.006, NMSE on test 3.99e+02\n",
      "Finished epoch 76/100, latest loss 417.760, R^2 on test -0.006, NMSE on test 3.99e+02\n",
      "Finished epoch 77/100, latest loss 417.762, R^2 on test -0.006, NMSE on test 3.99e+02\n",
      "Finished epoch 78/100, latest loss 417.763, R^2 on test -0.006, NMSE on test 3.99e+02\n",
      "Finished epoch 79/100, latest loss 417.765, R^2 on test -0.006, NMSE on test 3.99e+02\n",
      "Finished epoch 80/100, latest loss 417.766, R^2 on test -0.006, NMSE on test 3.99e+02\n",
      "Finished epoch 81/100, latest loss 417.768, R^2 on test -0.006, NMSE on test 3.99e+02\n",
      "Finished epoch 82/100, latest loss 417.769, R^2 on test -0.006, NMSE on test 3.99e+02\n",
      "Finished epoch 83/100, latest loss 417.770, R^2 on test -0.006, NMSE on test 3.99e+02\n",
      "Finished epoch 84/100, latest loss 417.771, R^2 on test -0.006, NMSE on test 3.99e+02\n",
      "Finished epoch 85/100, latest loss 417.772, R^2 on test -0.006, NMSE on test 3.99e+02\n",
      "Finished epoch 86/100, latest loss 417.773, R^2 on test -0.006, NMSE on test 3.99e+02\n",
      "Finished epoch 87/100, latest loss 417.773, R^2 on test -0.006, NMSE on test 3.99e+02\n",
      "Finished epoch 88/100, latest loss 417.774, R^2 on test -0.006, NMSE on test 3.99e+02\n",
      "Finished epoch 89/100, latest loss 417.775, R^2 on test -0.006, NMSE on test 3.99e+02\n",
      "Finished epoch 90/100, latest loss 417.775, R^2 on test -0.006, NMSE on test 3.99e+02\n",
      "Finished epoch 91/100, latest loss 417.776, R^2 on test -0.006, NMSE on test 3.99e+02\n",
      "Finished epoch 92/100, latest loss 417.776, R^2 on test -0.006, NMSE on test 3.99e+02\n",
      "Finished epoch 93/100, latest loss 417.776, R^2 on test -0.006, NMSE on test 3.99e+02\n",
      "Finished epoch 94/100, latest loss 417.777, R^2 on test -0.006, NMSE on test 3.99e+02\n",
      "Finished epoch 95/100, latest loss 417.777, R^2 on test -0.006, NMSE on test 3.99e+02\n",
      "Finished epoch 96/100, latest loss 417.778, R^2 on test -0.006, NMSE on test 3.99e+02\n",
      "Finished epoch 97/100, latest loss 417.778, R^2 on test -0.006, NMSE on test 3.99e+02\n",
      "Finished epoch 98/100, latest loss 417.778, R^2 on test -0.006, NMSE on test 3.99e+02\n",
      "Finished epoch 99/100, latest loss 417.778, R^2 on test -0.006, NMSE on test 3.99e+02\n",
      "Finished epoch 100/100, latest loss 417.778, R^2 on test -0.006, NMSE on test 3.99e+02\n"
     ]
    }
   ],
   "source": [
    "for n_epoch in range(n_epochs):\n",
    "    for i in range(0, len(X), batch_size):\n",
    "        Xbatch = X[i:i+batch_size]\n",
    "        y_pred = model(Xbatch)\n",
    "        \n",
    "        ybatch = y[i:i+batch_size]\n",
    "        loss = loss_fn(y_pred, ybatch)\n",
    "        optimizer.zero_grad()\n",
    "        loss.backward()\n",
    "        optimizer.step()\n",
    "        history.append(loss.item())\n",
    "    \n",
    "    print(f'Finished epoch {n_epoch + 1}/{n_epochs}, latest loss {loss:.3f}, R^2 on test {r2_score(y_test.detach().numpy(), model(X_test).detach().floor().numpy()):.3f}, NMSE on test {mean_squared_error(y_test.detach().numpy(), model(X_test).detach().floor().numpy()):.3}')"
   ]
  },
  {
   "cell_type": "code",
   "execution_count": 14,
   "metadata": {},
   "outputs": [],
   "source": [
    "torch.save(model.state_dict(), 'model_big_14.pkl')"
   ]
  },
  {
   "cell_type": "code",
   "execution_count": 15,
   "metadata": {},
   "outputs": [
    {
     "data": {
      "text/plain": [
       "Sequential(\n",
       "  (0): Linear(in_features=70, out_features=70, bias=True)\n",
       "  (1): ReLU()\n",
       "  (2): Linear(in_features=70, out_features=70, bias=True)\n",
       "  (3): ReLU()\n",
       "  (4): Linear(in_features=70, out_features=70, bias=True)\n",
       "  (5): ReLU()\n",
       "  (6): Linear(in_features=70, out_features=17, bias=True)\n",
       "  (7): ReLU()\n",
       "  (8): Linear(in_features=17, out_features=2, bias=True)\n",
       ")"
      ]
     },
     "execution_count": 15,
     "metadata": {},
     "output_type": "execute_result"
    }
   ],
   "source": [
    "model.load_state_dict(torch.load('model_big_14.pkl'))\n",
    "model.eval()"
   ]
  },
  {
   "cell_type": "code",
   "execution_count": 42,
   "metadata": {},
   "outputs": [
    {
     "data": {
      "text/plain": [
       "-0.006"
      ]
     },
     "execution_count": 42,
     "metadata": {},
     "output_type": "execute_result"
    }
   ],
   "source": [
    "round(r2_score(y_test.detach().numpy(), model(X_test).detach().floor().numpy()), 3)"
   ]
  },
  {
   "attachments": {},
   "cell_type": "markdown",
   "metadata": {},
   "source": [
    "# Сверточная нейронка"
   ]
  },
  {
   "attachments": {},
   "cell_type": "markdown",
   "metadata": {},
   "source": [
    "Данные для нее не reshape'им"
   ]
  },
  {
   "cell_type": "code",
   "execution_count": 8,
   "metadata": {},
   "outputs": [
    {
     "name": "stdout",
     "output_type": "stream",
     "text": [
      "Train: 19510, test: 2168\n"
     ]
    }
   ],
   "source": [
    "X = torch.tensor(data_x.astype('float32'))\n",
    "X = X[:, None, :, :]\n",
    "y = torch.tensor(swaps.astype('float32'))\n",
    "\n",
    "X, X_test, y, y_test = train_test_split(X, y, test_size=0.1)\n",
    "print(f'Train: {X.shape[0]}, test: {X_test.shape[0]}')"
   ]
  },
  {
   "cell_type": "code",
   "execution_count": 20,
   "metadata": {},
   "outputs": [],
   "source": [
    "class ConvNetSwapAdviser(nn.Module):\n",
    "    def __init__(self):\n",
    "        super(ConvNetSwapAdviser, self).__init__()\n",
    "        # 1 input image channel, 6 output channels, 3x3 square conv kernel\n",
    "        self.conv1 = nn.Conv2d(in_channels=1, out_channels=6, kernel_size=3)\n",
    "        self.pool1 = nn.MaxPool2d(kernel_size=2, stride=2)\n",
    "        # self.conv2 = nn.Conv2d(in_channels=6, out_channels=16, kernel_size=3)\n",
    "        # self.pool2 = nn.MaxPool2d(kernel_size=2, stride=2)\n",
    "        self.fc1 = nn.Linear(36, 16)\n",
    "        self.fc2 = nn.Linear(16, 8)\n",
    "        self.fc3 = nn.Linear(8, 2)\n",
    "\n",
    "    def forward(self, x):\n",
    "        x = self.pool1(F.relu(self.conv1(x)))\n",
    "\n",
    "        # x = self.pool2(F.relu(self.conv2(x)))\n",
    "        x = x.view(-1, 36)\n",
    "        x = F.relu(self.fc1(x))\n",
    "        x = F.relu(self.fc2(x))\n",
    "        x = self.fc3(x)\n",
    "        return x"
   ]
  },
  {
   "cell_type": "code",
   "execution_count": 21,
   "metadata": {},
   "outputs": [
    {
     "name": "stdout",
     "output_type": "stream",
     "text": [
      "----------------------------------------------------------------\n",
      "        Layer (type)               Output Shape         Param #\n",
      "================================================================\n",
      "            Conv2d-1             [-1, 6, 12, 3]              60\n",
      "         MaxPool2d-2              [-1, 6, 6, 1]               0\n",
      "            Linear-3                   [-1, 16]             592\n",
      "            Linear-4                    [-1, 8]             136\n",
      "            Linear-5                    [-1, 2]              18\n",
      "================================================================\n",
      "Total params: 806\n",
      "Trainable params: 806\n",
      "Non-trainable params: 0\n",
      "----------------------------------------------------------------\n",
      "Input size (MB): 0.00\n",
      "Forward/backward pass size (MB): 0.00\n",
      "Params size (MB): 0.00\n",
      "Estimated Total Size (MB): 0.01\n",
      "----------------------------------------------------------------\n"
     ]
    }
   ],
   "source": [
    "model = ConvNetSwapAdviser().to(device)\n",
    "\n",
    "summary(model, (1, 14, 5))\n",
    "\n",
    "criterion = nn.CrossEntropyLoss()\n",
    "optimizer = torch.optim.Adam(model.parameters(), lr=1e-3)\n",
    "history = []\n",
    "n_epochs = 15\n",
    "batch_size = 30"
   ]
  },
  {
   "cell_type": "code",
   "execution_count": 22,
   "metadata": {},
   "outputs": [
    {
     "name": "stdout",
     "output_type": "stream",
     "text": [
      "Finished epoch 1/15, \n",
      "          latest loss 46.873, \n",
      "          R^2 on test -3.072, \n",
      "          NMSE on test 1.66e+03\n",
      "Finished epoch 2/15, \n",
      "          latest loss 46.873, \n",
      "          R^2 on test -3.072, \n",
      "          NMSE on test 1.66e+03\n",
      "Finished epoch 3/15, \n",
      "          latest loss 46.873, \n",
      "          R^2 on test -3.072, \n",
      "          NMSE on test 1.66e+03\n",
      "Finished epoch 4/15, \n",
      "          latest loss 46.877, \n",
      "          R^2 on test -3.074, \n",
      "          NMSE on test 1.66e+03\n",
      "Finished epoch 5/15, \n",
      "          latest loss 46.873, \n",
      "          R^2 on test -3.072, \n",
      "          NMSE on test 1.66e+03\n",
      "Finished epoch 6/15, \n",
      "          latest loss 46.873, \n",
      "          R^2 on test -3.072, \n",
      "          NMSE on test 1.66e+03\n",
      "Finished epoch 7/15, \n",
      "          latest loss 46.873, \n",
      "          R^2 on test -3.072, \n",
      "          NMSE on test 1.66e+03\n",
      "Finished epoch 8/15, \n",
      "          latest loss 46.873, \n",
      "          R^2 on test -3.072, \n",
      "          NMSE on test 1.66e+03\n",
      "Finished epoch 9/15, \n",
      "          latest loss 46.873, \n",
      "          R^2 on test -3.072, \n",
      "          NMSE on test 1.66e+03\n",
      "Finished epoch 10/15, \n",
      "          latest loss 46.873, \n",
      "          R^2 on test -3.072, \n",
      "          NMSE on test 1.66e+03\n",
      "Finished epoch 11/15, \n",
      "          latest loss 46.873, \n",
      "          R^2 on test -3.072, \n",
      "          NMSE on test 1.66e+03\n",
      "Finished epoch 12/15, \n",
      "          latest loss 46.873, \n",
      "          R^2 on test -3.072, \n",
      "          NMSE on test 1.66e+03\n",
      "Finished epoch 13/15, \n",
      "          latest loss 46.873, \n",
      "          R^2 on test -3.072, \n",
      "          NMSE on test 1.66e+03\n",
      "Finished epoch 14/15, \n",
      "          latest loss 46.873, \n",
      "          R^2 on test -3.072, \n",
      "          NMSE on test 1.66e+03\n",
      "Finished epoch 15/15, \n",
      "          latest loss 46.873, \n",
      "          R^2 on test -3.072, \n",
      "          NMSE on test 1.66e+03\n"
     ]
    }
   ],
   "source": [
    "for n_epoch in range(n_epochs):\n",
    "    for i in range(0, len(X), batch_size):\n",
    "        Xbatch = X[i:i+batch_size]\n",
    "\n",
    "        y_pred = model(Xbatch)\n",
    "        \n",
    "        ybatch = y[i:i+batch_size]\n",
    "\n",
    "        loss = criterion(y_pred, ybatch)\n",
    "        optimizer.zero_grad()\n",
    "        loss.backward()\n",
    "        optimizer.step()\n",
    "        history.append(loss.item())\n",
    "    \n",
    "\n",
    "    print(f'''Finished epoch {n_epoch + 1}/{n_epochs}, \n",
    "          latest loss {loss:.3f}, \n",
    "          R^2 on test {r2_score(y_test.detach().numpy(), model(X_test).detach().floor().numpy()):.3f}, \n",
    "          NMSE on test {mean_squared_error(y_test.detach().numpy(), model(X_test).detach().floor().numpy()):.3}''')"
   ]
  },
  {
   "cell_type": "code",
   "execution_count": null,
   "metadata": {},
   "outputs": [],
   "source": []
  }
 ],
 "metadata": {
  "kernelspec": {
   "display_name": "ml",
   "language": "python",
   "name": "python3"
  },
  "language_info": {
   "codemirror_mode": {
    "name": "ipython",
    "version": 3
   },
   "file_extension": ".py",
   "mimetype": "text/x-python",
   "name": "python",
   "nbconvert_exporter": "python",
   "pygments_lexer": "ipython3",
   "version": "3.8.16"
  },
  "orig_nbformat": 4,
  "vscode": {
   "interpreter": {
    "hash": "d3b836c7ef044d43059c7846a59355f0b4cbb71a588c1f9492eaa9138c6b55f1"
   }
  }
 },
 "nbformat": 4,
 "nbformat_minor": 2
}
